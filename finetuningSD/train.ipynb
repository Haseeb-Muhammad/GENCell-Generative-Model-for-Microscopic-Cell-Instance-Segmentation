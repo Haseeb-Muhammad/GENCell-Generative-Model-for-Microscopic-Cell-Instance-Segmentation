{
 "cells": [
  {
   "cell_type": "code",
   "execution_count": null,
   "id": "6a505977",
   "metadata": {},
   "outputs": [],
   "source": [
    "from accelerate  import Accelerator\n",
    "from accelerate.utils import ProjectConfiguration\n",
    "\n",
    "from tqdm.auto import tqdm\n",
    "from pathlib import Path"
   ]
  }
 ],
 "metadata": {
  "kernelspec": {
   "display_name": "gen2seg",
   "language": "python",
   "name": "python3"
  },
  "language_info": {
   "codemirror_mode": {
    "name": "ipython",
    "version": 3
   },
   "file_extension": ".py",
   "mimetype": "text/x-python",
   "name": "python",
   "nbconvert_exporter": "python",
   "pygments_lexer": "ipython3",
   "version": "3.10.18"
  }
 },
 "nbformat": 4,
 "nbformat_minor": 5
}
